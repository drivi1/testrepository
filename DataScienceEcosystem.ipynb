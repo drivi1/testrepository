{
 "cells": [
  {
   "cell_type": "markdown",
   "id": "4a494e69-1006-4443-80d5-db4dd0bd3ea2",
   "metadata": {},
   "source": [
    "# Data Science Tools and Ecosystem"
   ]
  },
  {
   "cell_type": "markdown",
   "id": "28309930-cc21-4bcf-9b23-6f9f7010f29b",
   "metadata": {},
   "source": [
    "In this notebook, Data Science Tools and Ecosystem are summarized. "
   ]
  },
  {
   "cell_type": "markdown",
   "id": "a9c3d3a3-db7e-4e43-b675-3cb2df98d6cc",
   "metadata": {},
   "source": [
    "**Objectives:**  \n",
    "- List popular languages for Data Science\n",
    "- Create a table \n",
    "- Code arithmetic expressions\n",
    "- Insert cells above and below existing cells"
   ]
  },
  {
   "cell_type": "markdown",
   "id": "b76b9b1c-534d-4d76-8fcf-c049252343c0",
   "metadata": {},
   "source": [
    "Some of the popular languages that Data Scientists use are:  \n",
    "1. Python  \n",
    "1. SQL\n",
    "1. R \n"
   ]
  },
  {
   "cell_type": "markdown",
   "id": "9580fb68-2213-4f12-b49c-6d02cd9e78e4",
   "metadata": {},
   "source": [
    "Some of the commonly uses libraries used by Data Scientist include:  \n",
    "1. apache \n",
    "1. pytorch \n",
    "1. tensorflow "
   ]
  },
  {
   "cell_type": "markdown",
   "id": "cb8a2bed-6977-4c8f-918e-8294745fa5f4",
   "metadata": {},
   "source": [
    "|Data Science Tools| \n",
    "|-------------------|\n",
    "|R programming Language|  \n",
    "|Hadoop| \n",
    "|ggplot|"
   ]
  },
  {
   "cell_type": "markdown",
   "id": "22e9aea2-6e79-4813-aae4-3d02f5f5fab3",
   "metadata": {},
   "source": [
    "### Below are a few examples of evaluating arithmetic expressions in Python.  "
   ]
  },
  {
   "cell_type": "markdown",
   "id": "e2004269-1ea2-4442-943a-9b865a64303c",
   "metadata": {},
   "source": [
    "This is a simple arithmetic expression to multiply then add integers. "
   ]
  },
  {
   "cell_type": "code",
   "execution_count": 1,
   "id": "3143f49a-6a53-48c7-9681-8637f30f1daa",
   "metadata": {},
   "outputs": [
    {
     "data": {
      "text/plain": [
       "17"
      ]
     },
     "execution_count": 1,
     "metadata": {},
     "output_type": "execute_result"
    }
   ],
   "source": [
    "(3*4)+5"
   ]
  },
  {
   "cell_type": "markdown",
   "id": "f9788f77-3f7b-4375-8a55-50d2f8b78a3e",
   "metadata": {},
   "source": [
    "This will convert 200 minutes to hours by dividing by 60. "
   ]
  },
  {
   "cell_type": "code",
   "execution_count": 3,
   "id": "9a67eb47-9a51-4e71-a978-22603d9b02d5",
   "metadata": {},
   "outputs": [
    {
     "data": {
      "text/plain": [
       "3.3333333333333335"
      ]
     },
     "execution_count": 3,
     "metadata": {},
     "output_type": "execute_result"
    }
   ],
   "source": [
    "200/60"
   ]
  },
  {
   "cell_type": "markdown",
   "id": "1dc61b83-6969-4d4f-8f60-6db8c0adf615",
   "metadata": {},
   "source": [
    "## Author  \n",
    "Dyara Riviere"
   ]
  },
  {
   "cell_type": "code",
   "execution_count": null,
   "id": "8621c59b-a1e5-47db-9199-a6eb64de5a23",
   "metadata": {},
   "outputs": [],
   "source": []
  }
 ],
 "metadata": {
  "kernelspec": {
   "display_name": "Python",
   "language": "python",
   "name": "conda-env-python-py"
  },
  "language_info": {
   "codemirror_mode": {
    "name": "ipython",
    "version": 3
   },
   "file_extension": ".py",
   "mimetype": "text/x-python",
   "name": "python",
   "nbconvert_exporter": "python",
   "pygments_lexer": "ipython3",
   "version": "3.7.12"
  }
 },
 "nbformat": 4,
 "nbformat_minor": 5
}
